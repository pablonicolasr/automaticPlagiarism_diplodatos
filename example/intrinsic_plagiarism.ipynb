{
 "cells": [
  {
   "cell_type": "code",
   "execution_count": 1,
   "id": "c426f273",
   "metadata": {},
   "outputs": [],
   "source": [
    "import re\n",
    "import string\n",
    "import operator\n",
    "import functools\n",
    "import glob\n",
    "import os\n",
    "import matplotlib.colors as mc\n",
    "import nltk\n",
    "import numpy as np\n",
    "import textstat\n",
    "import unicodedata\n",
    "import pandas as pd\n",
    "\n",
    "import textstat\n",
    "from lexicalrichness import LexicalRichness\n",
    "from collections import Counter\n",
    "\n",
    "from nltk.corpus import stopwords\n",
    "from nltk.stem import SnowballStemmer\n",
    "from nltk.tokenize import word_tokenize\n",
    "from nltk.tag import pos_tag, map_tag\n",
    "from nltk.tokenize import sent_tokenize\n",
    "\n",
    " # Feature Selection\n",
    "from sklearn.feature_selection import VarianceThreshold"
   ]
  },
  {
   "cell_type": "code",
   "execution_count": 2,
   "id": "ef1a8916",
   "metadata": {},
   "outputs": [],
   "source": [
    "def countFiles(path, extension=\"*.txt\"): \n",
    "    \n",
    "    # Construir el patrón de búsqueda\n",
    "    patron = os.path.join(path, extension)\n",
    "    \n",
    "    # Obtener la lista de archivos que coinciden con el patrón\n",
    "    archivos = glob.glob(patron)\n",
    "    \n",
    "    return len(archivos)   "
   ]
  },
  {
   "cell_type": "code",
   "execution_count": 3,
   "id": "235ec7a3",
   "metadata": {},
   "outputs": [
    {
     "name": "stderr",
     "output_type": "stream",
     "text": [
      "IOPub data rate exceeded.\n",
      "The notebook server will temporarily stop sending output\n",
      "to the client in order to avoid crashing it.\n",
      "To change this limit, set the config variable\n",
      "`--NotebookApp.iopub_data_rate_limit`.\n",
      "\n",
      "Current values:\n",
      "NotebookApp.iopub_data_rate_limit=1000000.0 (bytes/sec)\n",
      "NotebookApp.rate_limit_window=3.0 (secs)\n",
      "\n"
     ]
    }
   ],
   "source": [
    "if __name__ == \"__main__\":\n",
    "    \n",
    "    path = os.path.join(os.getcwd(), \"corpus\")\n",
    "    \n",
    "     # Extensión de archivo que deseas contar\n",
    "    extension = \"*.txt\"\n",
    "    \n",
    "    # Imprimir el número de archivos encontrados\n",
    "    print(f\"El número de archivos *.txt en el directorio {path} es: {countFiles(path, extension)}\")    \n",
    "    \n",
    "    for i, value in enumerate(glob.glob(os.path.join(path, extension))):\n",
    "        \n",
    "        if i > 5:\n",
    "            \n",
    "            break\n",
    "        \n",
    "        print(\"File: \" + str(i+1))\n",
    "        \n",
    "        file = open(value, encoding= \"utf-8-sig\")\n",
    "        \n",
    "        text = file.read()\n",
    "        \n",
    "        print(text)\n",
    "        \n",
    "        file.close()"
   ]
  },
  {
   "cell_type": "code",
   "execution_count": null,
   "id": "58f4de12",
   "metadata": {},
   "outputs": [],
   "source": []
  }
 ],
 "metadata": {
  "kernelspec": {
   "display_name": "Python 3 (ipykernel)",
   "language": "python",
   "name": "python3"
  },
  "language_info": {
   "codemirror_mode": {
    "name": "ipython",
    "version": 3
   },
   "file_extension": ".py",
   "mimetype": "text/x-python",
   "name": "python",
   "nbconvert_exporter": "python",
   "pygments_lexer": "ipython3",
   "version": "3.9.16"
  }
 },
 "nbformat": 4,
 "nbformat_minor": 5
}
